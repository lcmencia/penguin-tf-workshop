{
 "cells": [
  {
   "cell_type": "markdown",
   "metadata": {
    "colab_type": "text",
    "id": "7gEMxYQ1oul7"
   },
   "source": [
    "<a href=\"https://colab.research.google.com/github/torresmateo/penguin-tf-workshop/blob/master/D4_1_Series_temporales.ipynb\" target=\"_parent\">\n",
    "  <img src=\"https://colab.research.google.com/assets/colab-badge.svg\" alt=\"Open In Colab\"/>\n",
    "</a>\n",
    "\n",
    "# Explorando las Series Temporales\n",
    "\n",
    "En este notebook vamos a ver como generar series temporales, para entender conceptos como la tendencia, patrones de temporada, autocorrelación, y ruido.\n",
    "\n",
    "Primero que nada, se incluyen las bibliotecas necesarias"
   ]
  },
  {
   "cell_type": "code",
   "execution_count": null,
   "metadata": {
    "colab": {},
    "colab_type": "code",
    "id": "cNrPTgXxh5R3"
   },
   "outputs": [],
   "source": [
    "import numpy as np\n",
    "import matplotlib.pyplot as plt\n",
    "plt.style.use('default')"
   ]
  },
  {
   "cell_type": "markdown",
   "metadata": {
    "colab_type": "text",
    "id": "0L5pHRdOp_N5"
   },
   "source": [
    "se provee una función para poder visualizar las series que vayamos creando"
   ]
  },
  {
   "cell_type": "code",
   "execution_count": null,
   "metadata": {
    "colab": {},
    "colab_type": "code",
    "id": "v6zcB3w1m2Xg"
   },
   "outputs": [],
   "source": [
    "def ver_serie(tiempo, valores):\n",
    "    plt.figure(figsize=(10, 8))\n",
    "    plt.plot(tiempo, valores)\n",
    "    plt.xlabel(\"Tiempo\")\n",
    "    plt.ylabel(\"Valor\")\n",
    "    plt.grid(True)\n",
    "    plt.show()"
   ]
  },
  {
   "cell_type": "markdown",
   "metadata": {
    "colab_type": "text",
    "id": "URNVx02fqC1-"
   },
   "source": [
    " # Tendencia\n",
    "\n",
    " Es la \"pendiente\" de la serie temporal. Puede ser creciente o decreciente. "
   ]
  },
  {
   "cell_type": "code",
   "execution_count": null,
   "metadata": {
    "colab": {},
    "colab_type": "code",
    "id": "R5my0yCgnCNs"
   },
   "outputs": [],
   "source": [
    "def tendencia(tiempo, pendiente=0):\n",
    "    return tiempo * pendiente"
   ]
  },
  {
   "cell_type": "code",
   "execution_count": null,
   "metadata": {
    "colab": {
     "base_uri": "https://localhost:8080/",
     "height": 696
    },
    "colab_type": "code",
    "id": "t240GDU0nRbs",
    "outputId": "369d4bbc-761c-4f77-8090-5e05cf707108"
   },
   "outputs": [],
   "source": [
    "tiempo = np.arange(5 * 365)\n",
    "serie = tendencia(tiempo, 0.1)\n",
    "ver_serie(tiempo, serie)"
   ]
  },
  {
   "cell_type": "markdown",
   "metadata": {
    "colab_type": "text",
    "id": "-ToHmkXeqOZB"
   },
   "source": [
    "# Patrón de estacionalidad\n",
    "\n",
    "Es una repetición periódica de valores en la serie, si no existe una tendencia (pendiente 0) y hay solamente un patrón de temporada, el período es lo único que perturba a los valores de la serie."
   ]
  },
  {
   "cell_type": "code",
   "execution_count": null,
   "metadata": {
    "colab": {},
    "colab_type": "code",
    "id": "WOThkXFancZ5"
   },
   "outputs": [],
   "source": [
    "def patron_estacion(tiempo_estacion):\n",
    "    return np.where(tiempo_estacion < 0.4, np.sin(tiempo_estacion * 4 * np.pi ), 0.5*np.sin(tiempo_estacion * 5 * np.pi)**2 + np.cos(tiempo_estacion * 5)**2)\n",
    "\n",
    "def estacionalidad(tiempo, periodo, amplitud = 1, fase = 0):\n",
    "    tiempo_estacion = ((tiempo + fase) % periodo) / periodo\n",
    "    return amplitud * patron_estacion(tiempo_estacion)"
   ]
  },
  {
   "cell_type": "code",
   "execution_count": null,
   "metadata": {
    "colab": {
     "base_uri": "https://localhost:8080/",
     "height": 698
    },
    "colab_type": "code",
    "id": "MJfEE-LjoPN2",
    "outputId": "f8e2f5c7-2bde-47af-962e-b5625a28dd35"
   },
   "outputs": [],
   "source": [
    "serie = estacionalidad(tiempo, periodo=365, amplitud=20)\n",
    "ver_serie(tiempo, serie)"
   ]
  },
  {
   "cell_type": "markdown",
   "metadata": {
    "colab_type": "text",
    "id": "hdwjLrJgqf2T"
   },
   "source": [
    "# Una serie con tendencia y estacionalidad"
   ]
  },
  {
   "cell_type": "code",
   "execution_count": null,
   "metadata": {
    "colab": {
     "base_uri": "https://localhost:8080/",
     "height": 696
    },
    "colab_type": "code",
    "id": "UH70wuSdofnu",
    "outputId": "852bd5ea-fdd5-4c22-b90f-a6751e9ddebc"
   },
   "outputs": [],
   "source": [
    "serie = 10 + tendencia(tiempo, 0.1) + estacionalidad(tiempo, periodo=365, amplitud=40)\n",
    "ver_serie(tiempo, serie)"
   ]
  },
  {
   "cell_type": "markdown",
   "metadata": {
    "colab_type": "text",
    "id": "i5zV41SWrS2p"
   },
   "source": [
    "# Ruido\n",
    "\n",
    "El ruido puede venir de interacciones de los valores medidos con otros fenómenos, o de fallas en el registro de los datos."
   ]
  },
  {
   "cell_type": "code",
   "execution_count": null,
   "metadata": {
    "colab": {},
    "colab_type": "code",
    "id": "HZsoyI_ZrZ6W"
   },
   "outputs": [],
   "source": [
    "def ruido(tiempo, nivel=1):\n",
    "    return np.random.randn(len(tiempo)) * nivel"
   ]
  },
  {
   "cell_type": "code",
   "execution_count": null,
   "metadata": {
    "colab": {
     "base_uri": "https://localhost:8080/",
     "height": 696
    },
    "colab_type": "code",
    "id": "MIa4rrjTrj4K",
    "outputId": "95684c87-f11b-4571-c2cc-b94490931274"
   },
   "outputs": [],
   "source": [
    "serie_ruidosa = serie + ruido(tiempo, nivel=10)\n",
    "ver_serie(tiempo, serie_ruidosa)"
   ]
  },
  {
   "cell_type": "markdown",
   "metadata": {
    "colab_type": "text",
    "id": "BWnP0Bdvrxqx"
   },
   "source": [
    "si el nivel de ruido sobrepasa por mucho a la varianza natural de nuestra serie, se pierde la mayoría del patrón que podemos detectar"
   ]
  },
  {
   "cell_type": "code",
   "execution_count": null,
   "metadata": {
    "colab": {
     "base_uri": "https://localhost:8080/",
     "height": 696
    },
    "colab_type": "code",
    "id": "pnKZMw12r9Da",
    "outputId": "e18e23ce-7f64-4d91-ce47-e628f6019d65"
   },
   "outputs": [],
   "source": [
    "serie_ruidosa = serie + ruido(tiempo, nivel=80)\n",
    "ver_serie(tiempo, serie_ruidosa)"
   ]
  },
  {
   "cell_type": "markdown",
   "metadata": {
    "colab_type": "text",
    "id": "IKZniHjmvmgF"
   },
   "source": [
    "# Autocorrelación\n",
    "\n",
    "La autocorrelación en datos temporales significa que la señal correlaciona consigo misma."
   ]
  },
  {
   "cell_type": "code",
   "execution_count": null,
   "metadata": {
    "colab": {
     "base_uri": "https://localhost:8080/",
     "height": 696
    },
    "colab_type": "code",
    "id": "dwS1wx30yBka",
    "outputId": "b6951fc6-2bdf-427c-f383-abdb751f79f8"
   },
   "outputs": [],
   "source": [
    "def autocorr_positiva(tiempo, amplitud):\n",
    "    ar = np.random.randn(len(tiempo) + 80)\n",
    "    ar = np.arange(len(tiempo) + 80)\n",
    "    for step in range(80, len(tiempo) + 80):\n",
    "        ar[step] += 0.6 * ar[step - 80] - 0.9 * ar[step - 20]\n",
    "    return ar[80:] * amplitud\n",
    "\n",
    "def autocorr_negativa(tiempo, amplitud):\n",
    "    ar = np.random.randn(len(tiempo) + 80)\n",
    "    ar = np.arange(len(tiempo) + 80)\n",
    "    for step in range(80, len(tiempo) + 80):\n",
    "        ar[step] -= 0.6 * ar[step - 80] - 0.9 * ar[step - 20]\n",
    "    return ar[80:] * amplitud\n",
    "\n",
    "serie = autocorr_positiva(tiempo, 10)\n",
    "ver_serie(tiempo[:200], serie[:200])"
   ]
  },
  {
   "cell_type": "markdown",
   "metadata": {
    "colab_type": "text",
    "id": "Yoi6NOsZ1qf5"
   },
   "source": [
    "# Serie completa\n",
    "\n"
   ]
  },
  {
   "cell_type": "code",
   "execution_count": null,
   "metadata": {
    "colab": {
     "base_uri": "https://localhost:8080/",
     "height": 697
    },
    "colab_type": "code",
    "id": "EwjIhSF61z8X",
    "outputId": "e32dab68-ab24-4000-d748-b1ec411c2264"
   },
   "outputs": [],
   "source": [
    "serie = autocorr_positiva(tiempo, 10) + estacionalidad(tiempo, periodo=50, amplitud=150) + tendencia(tiempo, 2) + ruido(tiempo)\n",
    "ver_serie(tiempo[:300], serie[:300])"
   ]
  },
  {
   "cell_type": "code",
   "execution_count": null,
   "metadata": {
    "colab": {
     "base_uri": "https://localhost:8080/",
     "height": 696
    },
    "colab_type": "code",
    "id": "oKgQ8ozG25g7",
    "outputId": "f8d44dc5-7f73-4a35-9065-6ab359bf3f85"
   },
   "outputs": [],
   "source": [
    "serie = autocorr_negativa(tiempo, 10) + estacionalidad(tiempo, periodo=50, amplitud=150) + tendencia(tiempo, 2) + ruido(tiempo)\n",
    "ver_serie(tiempo, serie)"
   ]
  },
  {
   "cell_type": "code",
   "execution_count": null,
   "metadata": {
    "colab": {
     "base_uri": "https://localhost:8080/",
     "height": 696
    },
    "colab_type": "code",
    "id": "gm7u8M6P3IOh",
    "outputId": "650bae69-8139-4cc6-aa0a-6398788c1b02"
   },
   "outputs": [],
   "source": [
    "serie = autocorr_positiva(tiempo, 10) + estacionalidad(tiempo, periodo=50, amplitud=150) + tendencia(tiempo, 2) + ruido(tiempo)\n",
    "serie[300:] = autocorr_negativa(tiempo[300:], 10) + estacionalidad(tiempo[300:], periodo=20, amplitud=150) + tendencia(tiempo[300:], -2) + ruido(tiempo[300:])\n",
    "\n",
    "ver_serie(tiempo[:600], serie[:600])"
   ]
  },
  {
   "cell_type": "markdown",
   "metadata": {
    "colab_type": "text",
    "id": "bTfScCl9pBSu"
   },
   "source": [
    "# Créditos \n",
    "\n",
    "Este notebook está inspirado en contenido del curso [TensorFlow in Practice](https://www.deeplearning.ai/tensorflow-in-practice/)."
   ]
  }
 ],
 "metadata": {
  "colab": {
   "name": "D4_1_Series_temporales.ipynb",
   "provenance": []
  },
  "kernelspec": {
   "display_name": "Python 3",
   "language": "python",
   "name": "python3"
  },
  "language_info": {
   "codemirror_mode": {
    "name": "ipython",
    "version": 3
   },
   "file_extension": ".py",
   "mimetype": "text/x-python",
   "name": "python",
   "nbconvert_exporter": "python",
   "pygments_lexer": "ipython3",
   "version": "3.7.5"
  }
 },
 "nbformat": 4,
 "nbformat_minor": 4
}
