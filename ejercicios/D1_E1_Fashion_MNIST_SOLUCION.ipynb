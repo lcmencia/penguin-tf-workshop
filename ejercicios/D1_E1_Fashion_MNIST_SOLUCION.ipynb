{
 "cells": [
  {
   "cell_type": "markdown",
   "metadata": {
    "colab_type": "text",
    "id": "tfHWGfDt7ik9"
   },
   "source": [
    "<a href=\"https://colab.research.google.com/github/torresmateo/penguin-tf-workshop/blob/master/D1_E1_Fashion_MNIST_SOLUCION.ipynb\" target=\"_parent\">\n",
    "  <img src=\"https://colab.research.google.com/assets/colab-badge.svg\" alt=\"Open In Colab\"/>\n",
    "</a>\n",
    "\n",
    "# Fashion MNIST - Clasificación de Imágenes\n",
    "Los siguientes ejercicios son para familiarizarse con una red neuronal simple. Se implementará un modelo similar a MNIST, cuya única diferencia son los *labels*. "
   ]
  },
  {
   "cell_type": "code",
   "execution_count": null,
   "metadata": {
    "colab": {},
    "colab_type": "code",
    "id": "U-vv8O2e8luj"
   },
   "outputs": [],
   "source": [
    "# Se incluyen las bibliotecas necesarias\n",
    "%tensorflow_version 2.x\n",
    "import numpy as np\n",
    "import tensorflow as tf\n",
    "import matplotlib.pyplot as plt"
   ]
  },
  {
   "cell_type": "markdown",
   "metadata": {
    "colab_type": "text",
    "id": "kW4lfPWoisDs"
   },
   "source": [
    "# Ejercicio 1 - Descargar el *dataset* \n",
    "\n",
    "Leer la documentación de [`fashion_mnist`](https://www.tensorflow.org/api_docs/python/tf/keras/datasets/fashion_mnist) y cargar el dataset en memoria en variables de training y testing.\n",
    "\n",
    "Luego, crear una lista con los nombres de las clases del *dataset*. Los nombres de las clases (o *labels*) pueden encontrarse en el repositorio [Fashion MNIST](https://github.com/zalandoresearch/fashion-mnist) (leer la documentación)"
   ]
  },
  {
   "cell_type": "code",
   "execution_count": null,
   "metadata": {
    "colab": {},
    "colab_type": "code",
    "id": "_IPG8gnZkgMm"
   },
   "outputs": [],
   "source": [
    "(train_imgs, train_labels), (test_imgs, test_labels) = tf.keras.datasets.fashion_mnist.load_data()\n",
    "class_names = ['T-shirt/top', 'Trouser', 'Pullover', 'Dress', 'Coat',\n",
    "               'Sandal', 'Shirt', 'Sneaker', 'Bag', 'Ankle boot']"
   ]
  },
  {
   "cell_type": "markdown",
   "metadata": {
    "colab_type": "text",
    "id": "RM6W7e-a7E_R"
   },
   "source": [
    "# Ejercicio 2 - Explorar el *dataset*\n",
    "\n",
    "keras ya particiona el *dataset* en *training* y *testing*, pero siempre es bueno entender el formato de los datos. \n",
    "\n",
    "Explora el *dataset* para obtener las respuestas a las siguientes preguntas:\n",
    "1. ¿Cuántas imágenes de *training* hay en el *dataset*?\n",
    "2. ¿Cuántas imágenes de *testing*?\n",
    "3. ¿Cuál es la resolución de las imágenes en el dataset?\n",
    "4. ¿Cuál es el tipo de dato cada pixel? ¿Y de los *labels*?"
   ]
  },
  {
   "cell_type": "code",
   "execution_count": null,
   "metadata": {
    "colab": {},
    "colab_type": "code",
    "id": "OeHsOFDj8WwB"
   },
   "outputs": [],
   "source": [
    "print('ejemplos de training:', train_imgs.shape[0])\n",
    "print('ejemplos de testing', test_imgs.shape[0])\n",
    "print('resolución de las imágenes', train_imgs[0].shape)\n",
    "print('tipo de dato de los píxeles', type(train_imgs[0,0,0]))\n",
    "print('tipo de dato de los labels', type(train_labels[0]))"
   ]
  },
  {
   "cell_type": "markdown",
   "metadata": {
    "colab_type": "text",
    "id": "Yr6W63sz-5JJ"
   },
   "source": [
    "# Función de ayuda - Visualizar el *dataset*\n",
    "\n",
    "Se provee una función que permite visualizar ejemplos individuales en el *dataset*. \n"
   ]
  },
  {
   "cell_type": "code",
   "execution_count": null,
   "metadata": {
    "colab": {},
    "colab_type": "code",
    "id": "_qZLUxk-_PqU"
   },
   "outputs": [],
   "source": [
    "def ver_ejemplo(training_dataset, training_labels, indice, clases):\n",
    "    \"\"\"\n",
    "    Visualizar una imágen del dataset\n",
    "\n",
    "    Parameters\n",
    "    ----------\n",
    "    training_dataset : np.ndarray\n",
    "        Un dataset de imágenes\n",
    "    training_labels : np.ndarray\n",
    "        Labels correspondientes al `training_dataset`\n",
    "    indice : int\n",
    "        el índice al ejemplo que se quiere visualizar\n",
    "    clases : list\n",
    "        La lista de clases que se creó en el Ejercicio 1\n",
    "    \"\"\"\n",
    "    fig, ax = plt.subplots(figsize=(2,2), dpi=100)\n",
    "    ax.set(title=clases[training_labels[indice]])\n",
    "    im = ax.imshow(training_dataset[indice], cmap='gray')\n",
    "    fig.colorbar(im, ax=ax)\n",
    "    ax.grid(False)\n",
    "    plt.show()"
   ]
  },
  {
   "cell_type": "code",
   "execution_count": null,
   "metadata": {
    "colab": {},
    "colab_type": "code",
    "id": "Ju9xAHejCSEA"
   },
   "outputs": [],
   "source": [
    "ver_ejemplo(train_imgs, train_labels, 0, class_names)"
   ]
  },
  {
   "cell_type": "markdown",
   "metadata": {
    "colab_type": "text",
    "id": "MLIbPHPV9grB"
   },
   "source": [
    "#Ejercicio 3 - normalizar el *dataset*\n",
    "\n",
    "Como fue explicado en las diapositivas, muchas funciones de activación que se usan en las redes neuronales funcionan mejor cuando el **rango** de las variables está entre `0` y `1`. En este ejercicio, normaliza las **imágenes** de *training* y *testing* de tal manera a que estén en el rango correcto."
   ]
  },
  {
   "cell_type": "code",
   "execution_count": null,
   "metadata": {
    "colab": {},
    "colab_type": "code",
    "id": "ORjCZhq1kqlK"
   },
   "outputs": [],
   "source": [
    "train_imgs = train_imgs / np.max(train_imgs)\n",
    "test_imgs = test_imgs / np.max(test_imgs)"
   ]
  },
  {
   "cell_type": "markdown",
   "metadata": {
    "colab_type": "text",
    "id": "-30mAu6KDqSP"
   },
   "source": [
    "# Ejercicio 4 - Explorar la red neuronal\n",
    "\n",
    "Probablemente hayas notado que el formato de Fashion MNIST es prácticamente idéntico al de MNIST (imágenes de 28x28 píxeles en escala de grises, y 10 clases). Por lo tanto, utilizaremos el mismo modelo y se discutirán algunos cambios que pueden mejorar la calidad de nuestro modelo.\n",
    "\n",
    "Completa las variables en el modelo para utilizar el dataset que cargaste en el\n",
    "Ejercicio 1"
   ]
  },
  {
   "cell_type": "code",
   "execution_count": null,
   "metadata": {
    "colab": {},
    "colab_type": "code",
    "id": "8SZsR2BjksNf"
   },
   "outputs": [],
   "source": [
    "model = tf.keras.models.Sequential([tf.keras.layers.Flatten(input_shape=(28, 28)), \n",
    "                                    tf.keras.layers.Dense(100, activation=tf.nn.relu), \n",
    "                                    tf.keras.layers.Dense(10, activation=tf.nn.softmax)])\n",
    "model.compile(optimizer='sgd', loss='sparse_categorical_crossentropy', metrics=['accuracy'])"
   ]
  },
  {
   "cell_type": "code",
   "execution_count": null,
   "metadata": {
    "colab": {},
    "colab_type": "code",
    "id": "V2BxD-tPwSkb"
   },
   "outputs": [],
   "source": [
    "model.fit(train_imgs,train_labels, epochs=10)"
   ]
  },
  {
   "cell_type": "code",
   "execution_count": null,
   "metadata": {
    "colab": {},
    "colab_type": "code",
    "id": "0PHYPPzMIr6i"
   },
   "outputs": [],
   "source": [
    "loss, acc = model.evaluate(test_imgs, test_labels)"
   ]
  },
  {
   "cell_type": "markdown",
   "metadata": {
    "colab_type": "text",
    "id": "GGawhMjxQKjO"
   },
   "source": [
    "Hacemos las predicciones para todo el *testing set* para poder analizar los resultados "
   ]
  },
  {
   "cell_type": "code",
   "execution_count": null,
   "metadata": {
    "colab": {},
    "colab_type": "code",
    "id": "IWH0dm9dQVHT"
   },
   "outputs": [],
   "source": [
    "predicciones = model.predict(test_imgs)"
   ]
  },
  {
   "cell_type": "markdown",
   "metadata": {
    "colab_type": "text",
    "id": "MDS5tH8RLheb"
   },
   "source": [
    "# Función de ayuda - Visualizar las predicciones\n",
    "\n",
    "Se provee una función que permite visualizar ejemplos individuales en el *dataset* y la predicción del modelo en paralelo. "
   ]
  },
  {
   "cell_type": "code",
   "execution_count": null,
   "metadata": {
    "colab": {},
    "colab_type": "code",
    "id": "gBE8zKmxK1wU"
   },
   "outputs": [],
   "source": [
    "def ver_prediccion(test_dataset,test_labels, predicciones, indice, clases):\n",
    "    \"\"\"\n",
    "    Visualizar una imágen del dataset\n",
    "\n",
    "    Parameters\n",
    "    ----------\n",
    "    test_dataset : np.ndarray\n",
    "        Un dataset de imágenes\n",
    "    test_labels : np.ndarray\n",
    "        Labels correspondientes al `test_dataset`\n",
    "    predicciones : np.ndarray\n",
    "        array con predicciones del modelo\n",
    "    indice : int\n",
    "        el índice al ejemplo que se quiere visualizar\n",
    "    clases : list\n",
    "        La lista de clases que se creó en el Ejercicio 1\n",
    "    \"\"\"\n",
    "    fig, ax = plt.subplots(1,2, dpi=100)\n",
    "    ax[0].set(title=clases[test_labels[indice]])\n",
    "    im = ax[0].imshow(test_dataset[indice], cmap='gray')\n",
    "    #fig.colorbar(im, ax=ax[0])\n",
    "    ax[0].grid(False)\n",
    "    ax[0].get_xaxis().set_ticks([])\n",
    "    ax[0].get_yaxis().set_ticks([])\n",
    "    ax[1].set_xticklabels(clases, rotation=90)\n",
    "    ax[1].get_yaxis().set_ticks([])\n",
    "    bars = ax[1].bar(clases, predicciones[indice], color='gray')\n",
    "    prediccion = np.argmax(predicciones[indice])\n",
    "    bars[prediccion].set_color('red')\n",
    "    bars[test_labels[indice]].set_color('blue')\n",
    "    plt.show()"
   ]
  },
  {
   "cell_type": "code",
   "execution_count": null,
   "metadata": {
    "colab": {},
    "colab_type": "code",
    "id": "EraKDOg5P8Q_"
   },
   "outputs": [],
   "source": [
    "ver_prediccion(test_imgs, test_labels, predicciones, 9, class_names)"
   ]
  },
  {
   "cell_type": "markdown",
   "metadata": {
    "colab_type": "text",
    "id": "oYxz8WkBZyr5"
   },
   "source": [
    "# Ejercicio 5 - Analizar los errores del modelo\n",
    "\n",
    "El modelo simple funciona bastante bien, pero hay algunos errores. Identifica los ejemplos que fueron mal clasificados por el modelo, y visualiza 5 de ellos."
   ]
  },
  {
   "cell_type": "code",
   "execution_count": null,
   "metadata": {
    "colab": {},
    "colab_type": "code",
    "id": "XfdCHcKuQcYU"
   },
   "outputs": [],
   "source": [
    "preds = np.argmax(predicciones, axis=1)\n",
    "errores = np.where(preds != test_labels)[0]\n",
    "\n",
    "for e in errores[:5]:\n",
    "    ver_prediccion(test_imgs, test_labels, predicciones, e, class_names)"
   ]
  }
 ],
 "metadata": {
  "colab": {
   "name": "[Día 1] 1 - MNIST.ipynb",
   "provenance": []
  },
  "kernelspec": {
   "display_name": "Python 3",
   "language": "python",
   "name": "python3"
  },
  "language_info": {
   "codemirror_mode": {
    "name": "ipython",
    "version": 3
   },
   "file_extension": ".py",
   "mimetype": "text/x-python",
   "name": "python",
   "nbconvert_exporter": "python",
   "pygments_lexer": "ipython3",
   "version": "3.7.5"
  }
 },
 "nbformat": 4,
 "nbformat_minor": 4
}
