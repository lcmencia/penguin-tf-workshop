{
 "cells": [
  {
   "cell_type": "markdown",
   "metadata": {
    "colab_type": "text",
    "id": "r_0-AvxZoPbZ"
   },
   "source": [
    "# Fashion MNIST con terminación temprana\n",
    "\n",
    "Usando el modelo del ejercicio anterior, en este notebooks aprenderás a crear tu callback y terminar tempranamente el entrenamiento de tu modelo.\n",
    "\n",
    "# Ejercicio 1 - importar tensorflow\n",
    "\n",
    "primero que nada, importa las bibliotecas que consideres necesarias\n",
    "\n",
    "\n"
   ]
  },
  {
   "cell_type": "code",
   "execution_count": null,
   "metadata": {
    "colab": {},
    "colab_type": "code",
    "id": "leGFCW3GoG-7"
   },
   "outputs": [],
   "source": [
    "%tensorflow_version 2.x\n",
    "import tensorflow as tf"
   ]
  },
  {
   "cell_type": "markdown",
   "metadata": {
    "colab_type": "text",
    "id": "XNJ4K209pePO"
   },
   "source": [
    "# Ejercicio 2 - crear el callback\n",
    "\n",
    "Escribe un callback que resulte en la terminación temprana del entrenamiento cuando el modelo llegue a más de 80% de precisión. Imprime un mensaje en la consola explicando el motivo de la terminación temprana y el número de *epoch* al usuario."
   ]
  },
  {
   "cell_type": "code",
   "execution_count": null,
   "metadata": {
    "colab": {},
    "colab_type": "code",
    "id": "di6AZP2vpa_T"
   },
   "outputs": [],
   "source": [
    "class CallbackPenguin(tf.keras.callbacks.Callback):\n",
    "    def on_epoch_end(self, epoch, logs={}):\n",
    "        if logs.get('accuracy') > 0.85:\n",
    "            print('\\nEl modelo ha llegado a 85% de precisión, terminando entrenamiento en el epoch', epoch + 1)\n",
    "            self.model.stop_training = True"
   ]
  },
  {
   "cell_type": "markdown",
   "metadata": {
    "colab_type": "text",
    "id": "GGRYYM8sqCxs"
   },
   "source": [
    "# Ejercicio 3 - cargar el *dataset*\n",
    "\n",
    "Carga el *dataset* de Fashion MNIST y normaliza las imágenes del dataset (recuerda que se deben normalizar tanto las imágenes del *training set*  y las del *testing set*)"
   ]
  },
  {
   "cell_type": "code",
   "execution_count": null,
   "metadata": {
    "colab": {},
    "colab_type": "code",
    "id": "37TEO9VyqWlO"
   },
   "outputs": [],
   "source": [
    "(train_imgs, train_labels), (test_imgs, test_labels) = tf.keras.datasets.fashion_mnist.load_data()\n",
    "train_imgs = train_imgs/255.0\n",
    "test_imgs = test_imgs/255.0"
   ]
  },
  {
   "cell_type": "markdown",
   "metadata": {
    "colab_type": "text",
    "id": "nLRfyhl_qa-l"
   },
   "source": [
    "# Ejercicio 4 - crear el modelo\n",
    "\n",
    "Recrea el modelo del ejercicio anterior, y compila el modelo."
   ]
  },
  {
   "cell_type": "code",
   "execution_count": null,
   "metadata": {
    "colab": {},
    "colab_type": "code",
    "id": "I1ZwidAJqZdM"
   },
   "outputs": [],
   "source": [
    "# crear el modelo\n",
    "model = tf.keras.models.Sequential([tf.keras.layers.Flatten(input_shape=(28, 28)), \n",
    "                                    tf.keras.layers.Dense(100, activation=tf.nn.relu), \n",
    "                                    tf.keras.layers.Dense(10, activation=tf.nn.softmax)])\n",
    "# compilar el modelo\n",
    "model.compile(optimizer='sgd', loss='sparse_categorical_crossentropy', metrics=['accuracy'])"
   ]
  },
  {
   "cell_type": "markdown",
   "metadata": {
    "colab_type": "text",
    "id": "TzHM34ucqsPy"
   },
   "source": [
    "# Ejercicio 4 - entrenar el modelo\n",
    "\n",
    "Entrena el modelo usando el comando `fit` y el callback que escribiste en el ejercicio 2."
   ]
  },
  {
   "cell_type": "code",
   "execution_count": null,
   "metadata": {
    "colab": {},
    "colab_type": "code",
    "id": "Y4ncnNy2q2GX"
   },
   "outputs": [],
   "source": [
    "callback_penguin = CallbackPenguin()\n",
    "model.fit(train_imgs, train_labels, epochs=50, callbacks=[callback_penguin])"
   ]
  },
  {
   "cell_type": "markdown",
   "metadata": {
    "colab_type": "text",
    "id": "EL3XO-1Mq7Cy"
   },
   "source": [
    "Felicitaciones! \n",
    "\n",
    "Si terminaste estos ejercicios, te darás cuenta que más o menos 15 líneas de código son suficientes para implementar un clasificador de imágenes, incluyendo su entrenamiento con la opción de terminar tempranamente!\n",
    "\n",
    "Esto finaliza el primer día del workshop."
   ]
  }
 ],
 "metadata": {
  "colab": {
   "name": "D1_E2_callbacks.ipynb",
   "provenance": []
  },
  "kernelspec": {
   "display_name": "Python 3",
   "language": "python",
   "name": "python3"
  },
  "language_info": {
   "codemirror_mode": {
    "name": "ipython",
    "version": 3
   },
   "file_extension": ".py",
   "mimetype": "text/x-python",
   "name": "python",
   "nbconvert_exporter": "python",
   "pygments_lexer": "ipython3",
   "version": "3.7.5"
  }
 },
 "nbformat": 4,
 "nbformat_minor": 4
}
